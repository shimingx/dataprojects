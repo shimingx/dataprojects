{
 "cells": [
  {
   "cell_type": "markdown",
   "metadata": {},
   "source": [
    "# Assignment Number 1: Python and Pandas"
   ]
  },
  {
   "cell_type": "markdown",
   "metadata": {},
   "source": [
    "---\n",
    "\n",
    "Name: Shiming Xiong\n",
    "\n",
    "---"
   ]
  },
  {
   "cell_type": "markdown",
   "metadata": {},
   "source": [
    "---\n",
    "\n",
    "Net id: sx368\n",
    "\n",
    "---"
   ]
  },
  {
   "cell_type": "markdown",
   "metadata": {},
   "source": [
    "The goal of the assignment is to test your knowledge on basic Pandas operations. You will work on this exercise using the patent data in our shared drive on the CUSP ADRF. The data dictionary can be found in the folder with the data. Please answer the following questions by using the data mentioned above. You will receive 1 points for each question that is answered correctly. A correct answer consists of the code that generates the answer followed by a text cell that answer the question in a sentence. Please keep in mind that the notebook you submit has to be executable, this means, has to run entirely without producing errors. \n",
    "\n",
    "The assignment is based on the notebook we did in our lecture. You will find most of the code needed to complete the assignment in the lecture notebook. Sometimes you have to make slights adjustment. Reading the text in the lecture notebook will help you make these adjustments. Don't worry if you get error messages. It usually works pretty well to copy the error message and paste it into a google search. If this doesn't help, please reach out to your classmates or us. We are here to help you in case you struggle. This assignment might seem a lot for the first week. But please don't worry. But once you are more familiar with how Python works it should not be a problem. This is the process of learning a new language. If you start working on the assignment before the next class we will have plenty of time to answer your question and help. \n",
    "\n",
    "** QUESTIONS:**\n",
    "\n",
    "1. Load the dataset \"assignee\" that is located in the Data folder under patents in our shared drive on the CUSP ADRF and find out the number of rows and columns in the dataset\n",
    "2. Select the first 50 rows of the assignee data sorted by id and display them. Which is the organization in row 26?\n",
    "3. How many unique assignee names are in the file? A name in this case is a full name consisting of first and last name.\n",
    "\n",
    "*Tip: you can find example code in the lecture notebook you can copy to answer these three questions. When loading the dataset pay attention to the format of the dataset. Python sometimes struggles with identifying the exact number of columns which can result in a conflict. In case this happens, there are options you can use to fix this. Here you can find the full list of options https://pandas.pydata.org/pandas-docs/stable/reference/api/pandas.read_csv.html*\n",
    "\n",
    "\n",
    "4. Merge the location file for the assignee and keep the records that match. Please read the data documentation to find out how files need to be merged. You need to merge multiple files in order to match location to assignee\n",
    "\n",
    "*Tip: We have done a merge in our lecture notebook. You can use this syntax as baseline. However, you might need to adjust this one as the ids you will be using to merge the data are not the same. All available merge options are documented here: https://pandas.pydata.org/pandas-docs/stable/reference/api/pandas.DataFrame.merge.html*\n",
    "\n",
    "\n",
    "5. Generate a new dataframe called assignee that contains the name of the organization, the assignee id, the type, and city    state, country, latitude, longitude, county, state_fips, county_fips\n",
    "6. Save this dataframe as .csv file in your home directory\n",
    "\n",
    "*Tip: For these two items you will find code snippets in the lecture notebook again.*\n",
    "\n",
    "\n",
    "7. Merge the location file for the inventor and keep the records that match. Please read the data documentation to find out how files need to be merged. You need to merge multiple files in order to match location to inventor\n",
    "8. Generate a new dataframe called inventor that contains the name of the inventor, the inventor id, and city, state, country, latitude, longitude, county, state_fips, county_fips\n",
    "9. Save this dataframe as .csv file in your home directory\n",
    "\n",
    "*Tip: This should be an easy one if you have 5-6. It's the same code. Or in case you want to test your Python skills you can try constructing a loop.*\n",
    "\n",
    "\n",
    "10. Which state in the US has the highest number of assignees? How many?\n",
    "\n",
    "*Tip: The lecture notebook will give you example code to calculate that number. Oftentimes we we are interested in a statistic for different entities grouping helps to generate these values.* "
   ]
  },
  {
   "cell_type": "markdown",
   "metadata": {},
   "source": [
    "## Question 1: \n"
   ]
  },
  {
   "cell_type": "code",
   "execution_count": 2,
   "metadata": {},
   "outputs": [
    {
     "name": "stdout",
     "output_type": "stream",
     "text": [
      "Populating the interactive namespace from numpy and matplotlib\n"
     ]
    }
   ],
   "source": [
    "%pylab inline"
   ]
  },
  {
   "cell_type": "code",
   "execution_count": 3,
   "metadata": {},
   "outputs": [],
   "source": [
    "import pandas as pd"
   ]
  },
  {
   "cell_type": "code",
   "execution_count": 4,
   "metadata": {},
   "outputs": [
    {
     "data": {
      "text/plain": [
       "u'/projects/wagner_ada_2019/user/sx368'"
      ]
     },
     "execution_count": 4,
     "metadata": {},
     "output_type": "execute_result"
    }
   ],
   "source": [
    "%pwd"
   ]
  },
  {
   "cell_type": "code",
   "execution_count": 5,
   "metadata": {},
   "outputs": [
    {
     "name": "stdout",
     "output_type": "stream",
     "text": [
      "/projects/wagner_ada_2019/shared/Data\n"
     ]
    }
   ],
   "source": [
    "%cd '~/projects/wagner_ada_2019/shared/Data'"
   ]
  },
  {
   "cell_type": "code",
   "execution_count": 6,
   "metadata": {},
   "outputs": [],
   "source": [
    "df = pd.read_csv('patents/assignee.tsv', delimiter = \"\\t\", encoding = \"utf8\") "
   ]
  },
  {
   "cell_type": "code",
   "execution_count": 7,
   "metadata": {},
   "outputs": [
    {
     "data": {
      "text/plain": [
       "(383348, 5)"
      ]
     },
     "execution_count": 7,
     "metadata": {},
     "output_type": "execute_result"
    }
   ],
   "source": [
    "df.shape"
   ]
  },
  {
   "cell_type": "code",
   "execution_count": 8,
   "metadata": {},
   "outputs": [
    {
     "name": "stdout",
     "output_type": "stream",
     "text": [
      "the number of rows is 383348, and the number of rows is 5 \n"
     ]
    }
   ],
   "source": [
    "print (\"the number of rows is 383348, and the number of rows is 5 \")"
   ]
  },
  {
   "cell_type": "markdown",
   "metadata": {},
   "source": [
    "## Question 2:"
   ]
  },
  {
   "cell_type": "code",
   "execution_count": 9,
   "metadata": {
    "scrolled": true
   },
   "outputs": [
    {
     "data": {
      "text/plain": [
       "id              383348\n",
       "type            383348\n",
       "name_first       41057\n",
       "name_last        41058\n",
       "organization    342289\n",
       "dtype: int64"
      ]
     },
     "execution_count": 9,
     "metadata": {},
     "output_type": "execute_result"
    }
   ],
   "source": [
    "df.count()"
   ]
  },
  {
   "cell_type": "code",
   "execution_count": 10,
   "metadata": {},
   "outputs": [
    {
     "data": {
      "text/html": [
       "<div>\n",
       "<table border=\"1\" class=\"dataframe\">\n",
       "  <thead>\n",
       "    <tr style=\"text-align: right;\">\n",
       "      <th></th>\n",
       "      <th>id</th>\n",
       "      <th>type</th>\n",
       "      <th>name_first</th>\n",
       "      <th>name_last</th>\n",
       "      <th>organization</th>\n",
       "    </tr>\n",
       "  </thead>\n",
       "  <tbody>\n",
       "    <tr>\n",
       "      <th>0</th>\n",
       "      <td>00003f5c5d92354570b9bae01b3e7272</td>\n",
       "      <td>2</td>\n",
       "      <td>NaN</td>\n",
       "      <td>NaN</td>\n",
       "      <td>E-Z Anchor Bolt Template, Inc.</td>\n",
       "    </tr>\n",
       "    <tr>\n",
       "      <th>1</th>\n",
       "      <td>000058159cdbf11415ffad8001c192f6</td>\n",
       "      <td>3</td>\n",
       "      <td>NaN</td>\n",
       "      <td>NaN</td>\n",
       "      <td>Roll and Go AG</td>\n",
       "    </tr>\n",
       "    <tr>\n",
       "      <th>2</th>\n",
       "      <td>00005a7b722c0d70af7c0f6706cdc067</td>\n",
       "      <td>2</td>\n",
       "      <td>NaN</td>\n",
       "      <td>NaN</td>\n",
       "      <td>PERSCITUS INNOVATIONS LLC</td>\n",
       "    </tr>\n",
       "    <tr>\n",
       "      <th>3</th>\n",
       "      <td>00007b72e8f46f63797266c63ad3a34f</td>\n",
       "      <td>2</td>\n",
       "      <td>NaN</td>\n",
       "      <td>NaN</td>\n",
       "      <td>Fleetwood Aluminum Products, Inc.</td>\n",
       "    </tr>\n",
       "    <tr>\n",
       "      <th>4</th>\n",
       "      <td>000099cec50350524fc0704f0cdd8db6</td>\n",
       "      <td>3</td>\n",
       "      <td>NaN</td>\n",
       "      <td>NaN</td>\n",
       "      <td>B.V. Nederlandse Industrie Van Eiprodukten</td>\n",
       "    </tr>\n",
       "  </tbody>\n",
       "</table>\n",
       "</div>"
      ],
      "text/plain": [
       "                                 id  type name_first name_last  \\\n",
       "0  00003f5c5d92354570b9bae01b3e7272     2        NaN       NaN   \n",
       "1  000058159cdbf11415ffad8001c192f6     3        NaN       NaN   \n",
       "2  00005a7b722c0d70af7c0f6706cdc067     2        NaN       NaN   \n",
       "3  00007b72e8f46f63797266c63ad3a34f     2        NaN       NaN   \n",
       "4  000099cec50350524fc0704f0cdd8db6     3        NaN       NaN   \n",
       "\n",
       "                                 organization  \n",
       "0             E-Z Anchor Bolt Template, Inc.   \n",
       "1                              Roll and Go AG  \n",
       "2                   PERSCITUS INNOVATIONS LLC  \n",
       "3           Fleetwood Aluminum Products, Inc.  \n",
       "4  B.V. Nederlandse Industrie Van Eiprodukten  "
      ]
     },
     "execution_count": 10,
     "metadata": {},
     "output_type": "execute_result"
    }
   ],
   "source": [
    "df.head()"
   ]
  },
  {
   "cell_type": "code",
   "execution_count": 11,
   "metadata": {
    "scrolled": true
   },
   "outputs": [
    {
     "data": {
      "text/html": [
       "<div>\n",
       "<table border=\"1\" class=\"dataframe\">\n",
       "  <thead>\n",
       "    <tr style=\"text-align: right;\">\n",
       "      <th></th>\n",
       "      <th>id</th>\n",
       "      <th>type</th>\n",
       "      <th>name_first</th>\n",
       "      <th>name_last</th>\n",
       "      <th>organization</th>\n",
       "    </tr>\n",
       "  </thead>\n",
       "  <tbody>\n",
       "    <tr>\n",
       "      <th>0</th>\n",
       "      <td>00003f5c5d92354570b9bae01b3e7272</td>\n",
       "      <td>2</td>\n",
       "      <td>NaN</td>\n",
       "      <td>NaN</td>\n",
       "      <td>E-Z Anchor Bolt Template, Inc.</td>\n",
       "    </tr>\n",
       "    <tr>\n",
       "      <th>1</th>\n",
       "      <td>000058159cdbf11415ffad8001c192f6</td>\n",
       "      <td>3</td>\n",
       "      <td>NaN</td>\n",
       "      <td>NaN</td>\n",
       "      <td>Roll and Go AG</td>\n",
       "    </tr>\n",
       "    <tr>\n",
       "      <th>2</th>\n",
       "      <td>00005a7b722c0d70af7c0f6706cdc067</td>\n",
       "      <td>2</td>\n",
       "      <td>NaN</td>\n",
       "      <td>NaN</td>\n",
       "      <td>PERSCITUS INNOVATIONS LLC</td>\n",
       "    </tr>\n",
       "    <tr>\n",
       "      <th>3</th>\n",
       "      <td>00007b72e8f46f63797266c63ad3a34f</td>\n",
       "      <td>2</td>\n",
       "      <td>NaN</td>\n",
       "      <td>NaN</td>\n",
       "      <td>Fleetwood Aluminum Products, Inc.</td>\n",
       "    </tr>\n",
       "    <tr>\n",
       "      <th>4</th>\n",
       "      <td>000099cec50350524fc0704f0cdd8db6</td>\n",
       "      <td>3</td>\n",
       "      <td>NaN</td>\n",
       "      <td>NaN</td>\n",
       "      <td>B.V. Nederlandse Industrie Van Eiprodukten</td>\n",
       "    </tr>\n",
       "    <tr>\n",
       "      <th>5</th>\n",
       "      <td>00010ed73d92d44448d6a95ea2bdfc82</td>\n",
       "      <td>2</td>\n",
       "      <td>NaN</td>\n",
       "      <td>NaN</td>\n",
       "      <td>Kirkplastic Company Incorporated</td>\n",
       "    </tr>\n",
       "    <tr>\n",
       "      <th>6</th>\n",
       "      <td>00012f928641d531b8cd4604135b4426</td>\n",
       "      <td>3</td>\n",
       "      <td>NaN</td>\n",
       "      <td>NaN</td>\n",
       "      <td>LIVSMED INC.</td>\n",
       "    </tr>\n",
       "    <tr>\n",
       "      <th>7</th>\n",
       "      <td>0001d6d0409910f2ea924c371ecbfbad</td>\n",
       "      <td>5</td>\n",
       "      <td>Ziyan</td>\n",
       "      <td>Liu</td>\n",
       "      <td>NaN</td>\n",
       "    </tr>\n",
       "    <tr>\n",
       "      <th>8</th>\n",
       "      <td>0001fec1a13a81b11892a8a1b7e9e26a</td>\n",
       "      <td>2</td>\n",
       "      <td>NaN</td>\n",
       "      <td>NaN</td>\n",
       "      <td>Terrybear, Inc.</td>\n",
       "    </tr>\n",
       "    <tr>\n",
       "      <th>9</th>\n",
       "      <td>000297b2fe80676ac2443715ece07065</td>\n",
       "      <td>3</td>\n",
       "      <td>NaN</td>\n",
       "      <td>NaN</td>\n",
       "      <td>Evince Technology Limited</td>\n",
       "    </tr>\n",
       "    <tr>\n",
       "      <th>10</th>\n",
       "      <td>0002ca8fa44fafd53223a9c280f0a302</td>\n",
       "      <td>3</td>\n",
       "      <td>NaN</td>\n",
       "      <td>NaN</td>\n",
       "      <td>Shanghai A&amp;S Science Technology Development Co...</td>\n",
       "    </tr>\n",
       "    <tr>\n",
       "      <th>11</th>\n",
       "      <td>0002cb9ed9c80bb4d5118517da40d6b7</td>\n",
       "      <td>2</td>\n",
       "      <td>NaN</td>\n",
       "      <td>NaN</td>\n",
       "      <td>Supreme Premium Products Inc.</td>\n",
       "    </tr>\n",
       "    <tr>\n",
       "      <th>12</th>\n",
       "      <td>0002f31315a48b02cf1911e0f4274965</td>\n",
       "      <td>3</td>\n",
       "      <td>NaN</td>\n",
       "      <td>NaN</td>\n",
       "      <td>Coretek Opto Corporation</td>\n",
       "    </tr>\n",
       "    <tr>\n",
       "      <th>13</th>\n",
       "      <td>00032dc66f4fbe33d98542427fbf286a</td>\n",
       "      <td>2</td>\n",
       "      <td>NaN</td>\n",
       "      <td>NaN</td>\n",
       "      <td>Almo Manifold &amp; Tool Company</td>\n",
       "    </tr>\n",
       "    <tr>\n",
       "      <th>14</th>\n",
       "      <td>0003307889ecfc5d06d4035795628ed2</td>\n",
       "      <td>2</td>\n",
       "      <td>NaN</td>\n",
       "      <td>NaN</td>\n",
       "      <td>D. Gioielli, Inc.</td>\n",
       "    </tr>\n",
       "    <tr>\n",
       "      <th>15</th>\n",
       "      <td>0003a4cb6aa22e585478331b1937529d</td>\n",
       "      <td>2</td>\n",
       "      <td>NaN</td>\n",
       "      <td>NaN</td>\n",
       "      <td>Western Reserve Electronics, Inc.</td>\n",
       "    </tr>\n",
       "    <tr>\n",
       "      <th>16</th>\n",
       "      <td>0003f46cdb3278b996c83205095deeb0</td>\n",
       "      <td>5</td>\n",
       "      <td>NaN</td>\n",
       "      <td>NaN</td>\n",
       "      <td>Mats Thulin AB</td>\n",
       "    </tr>\n",
       "    <tr>\n",
       "      <th>17</th>\n",
       "      <td>00045b45518d59431ec0a6bd48bc1df3</td>\n",
       "      <td>2</td>\n",
       "      <td>NaN</td>\n",
       "      <td>NaN</td>\n",
       "      <td>Mayo Foundation</td>\n",
       "    </tr>\n",
       "    <tr>\n",
       "      <th>18</th>\n",
       "      <td>00045e7585e9e231e1fa572845775569</td>\n",
       "      <td>3</td>\n",
       "      <td>NaN</td>\n",
       "      <td>NaN</td>\n",
       "      <td>Megomat AG</td>\n",
       "    </tr>\n",
       "    <tr>\n",
       "      <th>19</th>\n",
       "      <td>0004b94ec20b59f96c0cbfc7afb0d8f1</td>\n",
       "      <td>3</td>\n",
       "      <td>NaN</td>\n",
       "      <td>NaN</td>\n",
       "      <td>Airbus DS Limited</td>\n",
       "    </tr>\n",
       "    <tr>\n",
       "      <th>20</th>\n",
       "      <td>0004d228d44fd0816cba5cdebedf8fa4</td>\n",
       "      <td>3</td>\n",
       "      <td>NaN</td>\n",
       "      <td>NaN</td>\n",
       "      <td>Tokan Material Technology Co., Ltd.</td>\n",
       "    </tr>\n",
       "    <tr>\n",
       "      <th>21</th>\n",
       "      <td>0004eb61fbc3fb2dfb2c72a8d458751c</td>\n",
       "      <td>2</td>\n",
       "      <td>NaN</td>\n",
       "      <td>NaN</td>\n",
       "      <td>Advantage Industries, Inc.</td>\n",
       "    </tr>\n",
       "    <tr>\n",
       "      <th>22</th>\n",
       "      <td>000513c5c6deb9da259c8d831adf4297</td>\n",
       "      <td>3</td>\n",
       "      <td>NaN</td>\n",
       "      <td>NaN</td>\n",
       "      <td>Lawson Automotive Inc.</td>\n",
       "    </tr>\n",
       "    <tr>\n",
       "      <th>23</th>\n",
       "      <td>00052ca72a0568cf8a0e7bef1f069510</td>\n",
       "      <td>2</td>\n",
       "      <td>NaN</td>\n",
       "      <td>NaN</td>\n",
       "      <td>MadGrip Holdings, LLC</td>\n",
       "    </tr>\n",
       "    <tr>\n",
       "      <th>24</th>\n",
       "      <td>000536f0ae96cbeaf0fa2bd882efe2cd</td>\n",
       "      <td>3</td>\n",
       "      <td>NaN</td>\n",
       "      <td>NaN</td>\n",
       "      <td>Arrow Line S.r.l.</td>\n",
       "    </tr>\n",
       "    <tr>\n",
       "      <th>25</th>\n",
       "      <td>00055501bcc96f72d89fd41b44bbde7c</td>\n",
       "      <td>4</td>\n",
       "      <td>James</td>\n",
       "      <td>Rosa</td>\n",
       "      <td>NaN</td>\n",
       "    </tr>\n",
       "    <tr>\n",
       "      <th>26</th>\n",
       "      <td>00058979304632a95c9b697e4705aacd</td>\n",
       "      <td>2</td>\n",
       "      <td>NaN</td>\n",
       "      <td>NaN</td>\n",
       "      <td>Young Microbrush, LLC</td>\n",
       "    </tr>\n",
       "    <tr>\n",
       "      <th>27</th>\n",
       "      <td>0005a2307b9f4eaaabc44c8cec1c8f1f</td>\n",
       "      <td>3</td>\n",
       "      <td>NaN</td>\n",
       "      <td>NaN</td>\n",
       "      <td>Dragon Heart Medical Devices Co., Ltd.</td>\n",
       "    </tr>\n",
       "    <tr>\n",
       "      <th>28</th>\n",
       "      <td>0005a9078efc46e2183cc01a07541e85</td>\n",
       "      <td>2</td>\n",
       "      <td>NaN</td>\n",
       "      <td>NaN</td>\n",
       "      <td>Multi-Metal Wire Cloth Inc.</td>\n",
       "    </tr>\n",
       "    <tr>\n",
       "      <th>29</th>\n",
       "      <td>0005ad9738860051dad6509e1a418fb7</td>\n",
       "      <td>2</td>\n",
       "      <td>NaN</td>\n",
       "      <td>NaN</td>\n",
       "      <td>Logitech Incorporated</td>\n",
       "    </tr>\n",
       "    <tr>\n",
       "      <th>30</th>\n",
       "      <td>0005c3e6a482c01654865c0ba9ba24fc</td>\n",
       "      <td>2</td>\n",
       "      <td>NaN</td>\n",
       "      <td>NaN</td>\n",
       "      <td>INTERNATIONAL FRUIT GENETICS, LLC</td>\n",
       "    </tr>\n",
       "    <tr>\n",
       "      <th>31</th>\n",
       "      <td>0005eb340ec633d8189c5f4cd64a82a7</td>\n",
       "      <td>3</td>\n",
       "      <td>NaN</td>\n",
       "      <td>NaN</td>\n",
       "      <td>POINT TEK CO., LTD.</td>\n",
       "    </tr>\n",
       "    <tr>\n",
       "      <th>32</th>\n",
       "      <td>00062227de055ff58a3ba573d8e6a8f1</td>\n",
       "      <td>3</td>\n",
       "      <td>NaN</td>\n",
       "      <td>NaN</td>\n",
       "      <td>Societe Anonyme d'Etudes et Realisations Nucle...</td>\n",
       "    </tr>\n",
       "    <tr>\n",
       "      <th>33</th>\n",
       "      <td>00067f67be87d2760efeba6fd80b9b83</td>\n",
       "      <td>3</td>\n",
       "      <td>NaN</td>\n",
       "      <td>NaN</td>\n",
       "      <td>Keranor AS</td>\n",
       "    </tr>\n",
       "    <tr>\n",
       "      <th>34</th>\n",
       "      <td>000692a7987648ea9f8d51f85fed9738</td>\n",
       "      <td>3</td>\n",
       "      <td>NaN</td>\n",
       "      <td>NaN</td>\n",
       "      <td>AC (MACAO COMMERCIAL OFFSHORE) LIMITED</td>\n",
       "    </tr>\n",
       "    <tr>\n",
       "      <th>35</th>\n",
       "      <td>00069df8436eaba43cce847550924d3c</td>\n",
       "      <td>3</td>\n",
       "      <td>NaN</td>\n",
       "      <td>NaN</td>\n",
       "      <td>Yet Chang Mobile Goods Co., Ltd.</td>\n",
       "    </tr>\n",
       "    <tr>\n",
       "      <th>36</th>\n",
       "      <td>0006cf31181f448066041d857b63b73f</td>\n",
       "      <td>2</td>\n",
       "      <td>NaN</td>\n",
       "      <td>NaN</td>\n",
       "      <td>Material Technologies &amp; Sciences, Inc.</td>\n",
       "    </tr>\n",
       "    <tr>\n",
       "      <th>37</th>\n",
       "      <td>0006e14ec83bf24868d9ac5782456b09</td>\n",
       "      <td>2</td>\n",
       "      <td>NaN</td>\n",
       "      <td>NaN</td>\n",
       "      <td>Cabot Norit Americas, Inc.</td>\n",
       "    </tr>\n",
       "    <tr>\n",
       "      <th>38</th>\n",
       "      <td>000742d190f44e7b696f40d7f37a70c1</td>\n",
       "      <td>3</td>\n",
       "      <td>NaN</td>\n",
       "      <td>NaN</td>\n",
       "      <td>Battenford GmbH</td>\n",
       "    </tr>\n",
       "    <tr>\n",
       "      <th>39</th>\n",
       "      <td>0007a5170a90e0b3147c93d13c7d517b</td>\n",
       "      <td>3</td>\n",
       "      <td>NaN</td>\n",
       "      <td>NaN</td>\n",
       "      <td>PROVIDES METALMECCANICA S.R.L.</td>\n",
       "    </tr>\n",
       "    <tr>\n",
       "      <th>40</th>\n",
       "      <td>0007b52fab24284c653913badef77a1d</td>\n",
       "      <td>2</td>\n",
       "      <td>NaN</td>\n",
       "      <td>NaN</td>\n",
       "      <td>SeaSeer R&amp;D, LLC</td>\n",
       "    </tr>\n",
       "    <tr>\n",
       "      <th>41</th>\n",
       "      <td>0007e2e6fc8cbd1a77d4c6e803e2696d</td>\n",
       "      <td>3</td>\n",
       "      <td>NaN</td>\n",
       "      <td>NaN</td>\n",
       "      <td>Association pour la Recherche et le Developpment</td>\n",
       "    </tr>\n",
       "    <tr>\n",
       "      <th>42</th>\n",
       "      <td>0007e46ca7de21b409e044dff1766cb0</td>\n",
       "      <td>2</td>\n",
       "      <td>NaN</td>\n",
       "      <td>NaN</td>\n",
       "      <td>Tagcorp, Inc.</td>\n",
       "    </tr>\n",
       "    <tr>\n",
       "      <th>43</th>\n",
       "      <td>0008191c116cf73dff9eb974625c8fd8</td>\n",
       "      <td>2</td>\n",
       "      <td>NaN</td>\n",
       "      <td>NaN</td>\n",
       "      <td>Pacific Dynamic</td>\n",
       "    </tr>\n",
       "    <tr>\n",
       "      <th>44</th>\n",
       "      <td>00084624dc16536898132e79a9a4ac82</td>\n",
       "      <td>3</td>\n",
       "      <td>NaN</td>\n",
       "      <td>NaN</td>\n",
       "      <td>Cabletrade Industries Inc.</td>\n",
       "    </tr>\n",
       "    <tr>\n",
       "      <th>45</th>\n",
       "      <td>000848e0e8c2d73038a508ef4583c1cb</td>\n",
       "      <td>2</td>\n",
       "      <td>NaN</td>\n",
       "      <td>NaN</td>\n",
       "      <td>Vymed Corporation</td>\n",
       "    </tr>\n",
       "    <tr>\n",
       "      <th>46</th>\n",
       "      <td>0008592d867e96051a29e9dbc4daa3b8</td>\n",
       "      <td>2</td>\n",
       "      <td>NaN</td>\n",
       "      <td>NaN</td>\n",
       "      <td>Biochaiv Institute, Inc.</td>\n",
       "    </tr>\n",
       "    <tr>\n",
       "      <th>47</th>\n",
       "      <td>00086e48c03743df512b764131c2cf4e</td>\n",
       "      <td>2</td>\n",
       "      <td>NaN</td>\n",
       "      <td>NaN</td>\n",
       "      <td>Happy Cabinet, LLC</td>\n",
       "    </tr>\n",
       "    <tr>\n",
       "      <th>48</th>\n",
       "      <td>00086eda5c2fe32c98e8d0e7633c3f9e</td>\n",
       "      <td>2</td>\n",
       "      <td>NaN</td>\n",
       "      <td>NaN</td>\n",
       "      <td>ADTV World</td>\n",
       "    </tr>\n",
       "    <tr>\n",
       "      <th>49</th>\n",
       "      <td>000873da1b80add15d921f93722d3d7f</td>\n",
       "      <td>3</td>\n",
       "      <td>NaN</td>\n",
       "      <td>NaN</td>\n",
       "      <td>Timerax Holdings Ltd.</td>\n",
       "    </tr>\n",
       "  </tbody>\n",
       "</table>\n",
       "</div>"
      ],
      "text/plain": [
       "                                  id  type name_first name_last  \\\n",
       "0   00003f5c5d92354570b9bae01b3e7272     2        NaN       NaN   \n",
       "1   000058159cdbf11415ffad8001c192f6     3        NaN       NaN   \n",
       "2   00005a7b722c0d70af7c0f6706cdc067     2        NaN       NaN   \n",
       "3   00007b72e8f46f63797266c63ad3a34f     2        NaN       NaN   \n",
       "4   000099cec50350524fc0704f0cdd8db6     3        NaN       NaN   \n",
       "5   00010ed73d92d44448d6a95ea2bdfc82     2        NaN       NaN   \n",
       "6   00012f928641d531b8cd4604135b4426     3        NaN       NaN   \n",
       "7   0001d6d0409910f2ea924c371ecbfbad     5      Ziyan       Liu   \n",
       "8   0001fec1a13a81b11892a8a1b7e9e26a     2        NaN       NaN   \n",
       "9   000297b2fe80676ac2443715ece07065     3        NaN       NaN   \n",
       "10  0002ca8fa44fafd53223a9c280f0a302     3        NaN       NaN   \n",
       "11  0002cb9ed9c80bb4d5118517da40d6b7     2        NaN       NaN   \n",
       "12  0002f31315a48b02cf1911e0f4274965     3        NaN       NaN   \n",
       "13  00032dc66f4fbe33d98542427fbf286a     2        NaN       NaN   \n",
       "14  0003307889ecfc5d06d4035795628ed2     2        NaN       NaN   \n",
       "15  0003a4cb6aa22e585478331b1937529d     2        NaN       NaN   \n",
       "16  0003f46cdb3278b996c83205095deeb0     5        NaN       NaN   \n",
       "17  00045b45518d59431ec0a6bd48bc1df3     2        NaN       NaN   \n",
       "18  00045e7585e9e231e1fa572845775569     3        NaN       NaN   \n",
       "19  0004b94ec20b59f96c0cbfc7afb0d8f1     3        NaN       NaN   \n",
       "20  0004d228d44fd0816cba5cdebedf8fa4     3        NaN       NaN   \n",
       "21  0004eb61fbc3fb2dfb2c72a8d458751c     2        NaN       NaN   \n",
       "22  000513c5c6deb9da259c8d831adf4297     3        NaN       NaN   \n",
       "23  00052ca72a0568cf8a0e7bef1f069510     2        NaN       NaN   \n",
       "24  000536f0ae96cbeaf0fa2bd882efe2cd     3        NaN       NaN   \n",
       "25  00055501bcc96f72d89fd41b44bbde7c     4      James      Rosa   \n",
       "26  00058979304632a95c9b697e4705aacd     2        NaN       NaN   \n",
       "27  0005a2307b9f4eaaabc44c8cec1c8f1f     3        NaN       NaN   \n",
       "28  0005a9078efc46e2183cc01a07541e85     2        NaN       NaN   \n",
       "29  0005ad9738860051dad6509e1a418fb7     2        NaN       NaN   \n",
       "30  0005c3e6a482c01654865c0ba9ba24fc     2        NaN       NaN   \n",
       "31  0005eb340ec633d8189c5f4cd64a82a7     3        NaN       NaN   \n",
       "32  00062227de055ff58a3ba573d8e6a8f1     3        NaN       NaN   \n",
       "33  00067f67be87d2760efeba6fd80b9b83     3        NaN       NaN   \n",
       "34  000692a7987648ea9f8d51f85fed9738     3        NaN       NaN   \n",
       "35  00069df8436eaba43cce847550924d3c     3        NaN       NaN   \n",
       "36  0006cf31181f448066041d857b63b73f     2        NaN       NaN   \n",
       "37  0006e14ec83bf24868d9ac5782456b09     2        NaN       NaN   \n",
       "38  000742d190f44e7b696f40d7f37a70c1     3        NaN       NaN   \n",
       "39  0007a5170a90e0b3147c93d13c7d517b     3        NaN       NaN   \n",
       "40  0007b52fab24284c653913badef77a1d     2        NaN       NaN   \n",
       "41  0007e2e6fc8cbd1a77d4c6e803e2696d     3        NaN       NaN   \n",
       "42  0007e46ca7de21b409e044dff1766cb0     2        NaN       NaN   \n",
       "43  0008191c116cf73dff9eb974625c8fd8     2        NaN       NaN   \n",
       "44  00084624dc16536898132e79a9a4ac82     3        NaN       NaN   \n",
       "45  000848e0e8c2d73038a508ef4583c1cb     2        NaN       NaN   \n",
       "46  0008592d867e96051a29e9dbc4daa3b8     2        NaN       NaN   \n",
       "47  00086e48c03743df512b764131c2cf4e     2        NaN       NaN   \n",
       "48  00086eda5c2fe32c98e8d0e7633c3f9e     2        NaN       NaN   \n",
       "49  000873da1b80add15d921f93722d3d7f     3        NaN       NaN   \n",
       "\n",
       "                                         organization  \n",
       "0                     E-Z Anchor Bolt Template, Inc.   \n",
       "1                                      Roll and Go AG  \n",
       "2                           PERSCITUS INNOVATIONS LLC  \n",
       "3                   Fleetwood Aluminum Products, Inc.  \n",
       "4          B.V. Nederlandse Industrie Van Eiprodukten  \n",
       "5                    Kirkplastic Company Incorporated  \n",
       "6                                        LIVSMED INC.  \n",
       "7                                                 NaN  \n",
       "8                                     Terrybear, Inc.  \n",
       "9                           Evince Technology Limited  \n",
       "10  Shanghai A&S Science Technology Development Co...  \n",
       "11                      Supreme Premium Products Inc.  \n",
       "12                           Coretek Opto Corporation  \n",
       "13                       Almo Manifold & Tool Company  \n",
       "14                                  D. Gioielli, Inc.  \n",
       "15                  Western Reserve Electronics, Inc.  \n",
       "16                                     Mats Thulin AB  \n",
       "17                                    Mayo Foundation  \n",
       "18                                         Megomat AG  \n",
       "19                                  Airbus DS Limited  \n",
       "20                Tokan Material Technology Co., Ltd.  \n",
       "21                         Advantage Industries, Inc.  \n",
       "22                             Lawson Automotive Inc.  \n",
       "23                              MadGrip Holdings, LLC  \n",
       "24                                  Arrow Line S.r.l.  \n",
       "25                                                NaN  \n",
       "26                              Young Microbrush, LLC  \n",
       "27             Dragon Heart Medical Devices Co., Ltd.  \n",
       "28                        Multi-Metal Wire Cloth Inc.  \n",
       "29                              Logitech Incorporated  \n",
       "30                  INTERNATIONAL FRUIT GENETICS, LLC  \n",
       "31                                POINT TEK CO., LTD.  \n",
       "32  Societe Anonyme d'Etudes et Realisations Nucle...  \n",
       "33                                         Keranor AS  \n",
       "34             AC (MACAO COMMERCIAL OFFSHORE) LIMITED  \n",
       "35                   Yet Chang Mobile Goods Co., Ltd.  \n",
       "36             Material Technologies & Sciences, Inc.  \n",
       "37                         Cabot Norit Americas, Inc.  \n",
       "38                                    Battenford GmbH  \n",
       "39                     PROVIDES METALMECCANICA S.R.L.  \n",
       "40                                   SeaSeer R&D, LLC  \n",
       "41   Association pour la Recherche et le Developpment  \n",
       "42                                      Tagcorp, Inc.  \n",
       "43                                    Pacific Dynamic  \n",
       "44                         Cabletrade Industries Inc.  \n",
       "45                                  Vymed Corporation  \n",
       "46                           Biochaiv Institute, Inc.  \n",
       "47                                 Happy Cabinet, LLC  \n",
       "48                                         ADTV World  \n",
       "49                              Timerax Holdings Ltd.  "
      ]
     },
     "execution_count": 11,
     "metadata": {},
     "output_type": "execute_result"
    }
   ],
   "source": [
    "(df[['id', 'type', 'name_first', 'name_last', 'organization']].head(50).sort_values(['id'], ascending=[True]))"
   ]
  },
  {
   "cell_type": "code",
   "execution_count": 15,
   "metadata": {},
   "outputs": [
    {
     "name": "stdout",
     "output_type": "stream",
     "text": [
      "the organization that is in row 26 is Young Microbrush, LLC\n"
     ]
    }
   ],
   "source": [
    "print('the organization that is in row 26 is '+ str(df.loc[26, 'organization']))"
   ]
  },
  {
   "cell_type": "markdown",
   "metadata": {},
   "source": [
    "## Question 3"
   ]
  },
  {
   "cell_type": "code",
   "execution_count": 80,
   "metadata": {},
   "outputs": [],
   "source": [
    "df['unique_name']=df['name_first']+' '+ df['name_last']"
   ]
  },
  {
   "cell_type": "code",
   "execution_count": 81,
   "metadata": {},
   "outputs": [
    {
     "data": {
      "text/html": [
       "<div>\n",
       "<table border=\"1\" class=\"dataframe\">\n",
       "  <thead>\n",
       "    <tr style=\"text-align: right;\">\n",
       "      <th></th>\n",
       "      <th>id</th>\n",
       "      <th>type</th>\n",
       "      <th>name_first</th>\n",
       "      <th>name_last</th>\n",
       "      <th>organization</th>\n",
       "      <th>unique_name</th>\n",
       "    </tr>\n",
       "  </thead>\n",
       "  <tbody>\n",
       "    <tr>\n",
       "      <th>0</th>\n",
       "      <td>00003f5c5d92354570b9bae01b3e7272</td>\n",
       "      <td>2</td>\n",
       "      <td>NaN</td>\n",
       "      <td>NaN</td>\n",
       "      <td>E-Z Anchor Bolt Template, Inc.</td>\n",
       "      <td>NaN</td>\n",
       "    </tr>\n",
       "    <tr>\n",
       "      <th>1</th>\n",
       "      <td>000058159cdbf11415ffad8001c192f6</td>\n",
       "      <td>3</td>\n",
       "      <td>NaN</td>\n",
       "      <td>NaN</td>\n",
       "      <td>Roll and Go AG</td>\n",
       "      <td>NaN</td>\n",
       "    </tr>\n",
       "    <tr>\n",
       "      <th>2</th>\n",
       "      <td>00005a7b722c0d70af7c0f6706cdc067</td>\n",
       "      <td>2</td>\n",
       "      <td>NaN</td>\n",
       "      <td>NaN</td>\n",
       "      <td>PERSCITUS INNOVATIONS LLC</td>\n",
       "      <td>NaN</td>\n",
       "    </tr>\n",
       "    <tr>\n",
       "      <th>3</th>\n",
       "      <td>00007b72e8f46f63797266c63ad3a34f</td>\n",
       "      <td>2</td>\n",
       "      <td>NaN</td>\n",
       "      <td>NaN</td>\n",
       "      <td>Fleetwood Aluminum Products, Inc.</td>\n",
       "      <td>NaN</td>\n",
       "    </tr>\n",
       "    <tr>\n",
       "      <th>4</th>\n",
       "      <td>000099cec50350524fc0704f0cdd8db6</td>\n",
       "      <td>3</td>\n",
       "      <td>NaN</td>\n",
       "      <td>NaN</td>\n",
       "      <td>B.V. Nederlandse Industrie Van Eiprodukten</td>\n",
       "      <td>NaN</td>\n",
       "    </tr>\n",
       "    <tr>\n",
       "      <th>5</th>\n",
       "      <td>00010ed73d92d44448d6a95ea2bdfc82</td>\n",
       "      <td>2</td>\n",
       "      <td>NaN</td>\n",
       "      <td>NaN</td>\n",
       "      <td>Kirkplastic Company Incorporated</td>\n",
       "      <td>NaN</td>\n",
       "    </tr>\n",
       "    <tr>\n",
       "      <th>6</th>\n",
       "      <td>00012f928641d531b8cd4604135b4426</td>\n",
       "      <td>3</td>\n",
       "      <td>NaN</td>\n",
       "      <td>NaN</td>\n",
       "      <td>LIVSMED INC.</td>\n",
       "      <td>NaN</td>\n",
       "    </tr>\n",
       "    <tr>\n",
       "      <th>7</th>\n",
       "      <td>0001d6d0409910f2ea924c371ecbfbad</td>\n",
       "      <td>5</td>\n",
       "      <td>Ziyan</td>\n",
       "      <td>Liu</td>\n",
       "      <td>NaN</td>\n",
       "      <td>Ziyan Liu</td>\n",
       "    </tr>\n",
       "    <tr>\n",
       "      <th>8</th>\n",
       "      <td>0001fec1a13a81b11892a8a1b7e9e26a</td>\n",
       "      <td>2</td>\n",
       "      <td>NaN</td>\n",
       "      <td>NaN</td>\n",
       "      <td>Terrybear, Inc.</td>\n",
       "      <td>NaN</td>\n",
       "    </tr>\n",
       "    <tr>\n",
       "      <th>9</th>\n",
       "      <td>000297b2fe80676ac2443715ece07065</td>\n",
       "      <td>3</td>\n",
       "      <td>NaN</td>\n",
       "      <td>NaN</td>\n",
       "      <td>Evince Technology Limited</td>\n",
       "      <td>NaN</td>\n",
       "    </tr>\n",
       "  </tbody>\n",
       "</table>\n",
       "</div>"
      ],
      "text/plain": [
       "                                 id  type name_first name_last  \\\n",
       "0  00003f5c5d92354570b9bae01b3e7272     2        NaN       NaN   \n",
       "1  000058159cdbf11415ffad8001c192f6     3        NaN       NaN   \n",
       "2  00005a7b722c0d70af7c0f6706cdc067     2        NaN       NaN   \n",
       "3  00007b72e8f46f63797266c63ad3a34f     2        NaN       NaN   \n",
       "4  000099cec50350524fc0704f0cdd8db6     3        NaN       NaN   \n",
       "5  00010ed73d92d44448d6a95ea2bdfc82     2        NaN       NaN   \n",
       "6  00012f928641d531b8cd4604135b4426     3        NaN       NaN   \n",
       "7  0001d6d0409910f2ea924c371ecbfbad     5      Ziyan       Liu   \n",
       "8  0001fec1a13a81b11892a8a1b7e9e26a     2        NaN       NaN   \n",
       "9  000297b2fe80676ac2443715ece07065     3        NaN       NaN   \n",
       "\n",
       "                                 organization unique_name  \n",
       "0             E-Z Anchor Bolt Template, Inc.          NaN  \n",
       "1                              Roll and Go AG         NaN  \n",
       "2                   PERSCITUS INNOVATIONS LLC         NaN  \n",
       "3           Fleetwood Aluminum Products, Inc.         NaN  \n",
       "4  B.V. Nederlandse Industrie Van Eiprodukten         NaN  \n",
       "5            Kirkplastic Company Incorporated         NaN  \n",
       "6                                LIVSMED INC.         NaN  \n",
       "7                                         NaN   Ziyan Liu  \n",
       "8                             Terrybear, Inc.         NaN  \n",
       "9                   Evince Technology Limited         NaN  "
      ]
     },
     "execution_count": 81,
     "metadata": {},
     "output_type": "execute_result"
    }
   ],
   "source": [
    "df.head(10)"
   ]
  },
  {
   "cell_type": "code",
   "execution_count": 85,
   "metadata": {},
   "outputs": [
    {
     "data": {
      "text/plain": [
       "41058"
      ]
     },
     "execution_count": 85,
     "metadata": {},
     "output_type": "execute_result"
    }
   ],
   "source": [
    "len (df['unique_name'].unique())"
   ]
  },
  {
   "cell_type": "code",
   "execution_count": 86,
   "metadata": {},
   "outputs": [
    {
     "name": "stdout",
     "output_type": "stream",
     "text": [
      "the number of unique names is 41058\n"
     ]
    }
   ],
   "source": [
    "print('the number of unique names is 41058')"
   ]
  },
  {
   "cell_type": "markdown",
   "metadata": {},
   "source": [
    "## Question 4"
   ]
  },
  {
   "cell_type": "code",
   "execution_count": 87,
   "metadata": {},
   "outputs": [
    {
     "name": "stdout",
     "output_type": "stream",
     "text": [
      "/projects/wagner_ada_2019/shared/Data\n"
     ]
    }
   ],
   "source": [
    "%cd '~/projects/wagner_ada_2019/shared/Data'"
   ]
  },
  {
   "cell_type": "code",
   "execution_count": 88,
   "metadata": {},
   "outputs": [
    {
     "name": "stderr",
     "output_type": "stream",
     "text": [
      "Skipping line 8186: expected 9 fields, saw 10\n",
      "Skipping line 47666: expected 9 fields, saw 10\n",
      "\n",
      "Skipping line 95596: expected 9 fields, saw 10\n",
      "Skipping line 116945: expected 9 fields, saw 10\n",
      "\n"
     ]
    }
   ],
   "source": [
    "df2 = pd.read_table('patents/location.tsv', delimiter = \"\\t\", encoding = \"utf8\", error_bad_lines=False) "
   ]
  },
  {
   "cell_type": "code",
   "execution_count": 89,
   "metadata": {},
   "outputs": [],
   "source": [
    "merge_df = pd.merge(df, df2, on=[\"id\"], how=\"outer\")"
   ]
  },
  {
   "cell_type": "code",
   "execution_count": 32,
   "metadata": {},
   "outputs": [
    {
     "data": {
      "text/plain": [
       "(509541, 13)"
      ]
     },
     "execution_count": 32,
     "metadata": {},
     "output_type": "execute_result"
    }
   ],
   "source": [
    "merge_df.shape"
   ]
  },
  {
   "cell_type": "code",
   "execution_count": 33,
   "metadata": {},
   "outputs": [
    {
     "data": {
      "text/html": [
       "<div>\n",
       "<table border=\"1\" class=\"dataframe\">\n",
       "  <thead>\n",
       "    <tr style=\"text-align: right;\">\n",
       "      <th></th>\n",
       "      <th>id</th>\n",
       "      <th>type</th>\n",
       "      <th>name_first</th>\n",
       "      <th>name_last</th>\n",
       "      <th>organization</th>\n",
       "      <th>city</th>\n",
       "      <th>state</th>\n",
       "      <th>country</th>\n",
       "      <th>latitude</th>\n",
       "      <th>longitude</th>\n",
       "      <th>county</th>\n",
       "      <th>state_fips</th>\n",
       "      <th>county_fips</th>\n",
       "    </tr>\n",
       "  </thead>\n",
       "  <tbody>\n",
       "    <tr>\n",
       "      <th>0</th>\n",
       "      <td>00003f5c5d92354570b9bae01b3e7272</td>\n",
       "      <td>2.0</td>\n",
       "      <td>NaN</td>\n",
       "      <td>NaN</td>\n",
       "      <td>E-Z Anchor Bolt Template, Inc.</td>\n",
       "      <td>NaN</td>\n",
       "      <td>NaN</td>\n",
       "      <td>NaN</td>\n",
       "      <td>NaN</td>\n",
       "      <td>NaN</td>\n",
       "      <td>NaN</td>\n",
       "      <td>NaN</td>\n",
       "      <td>NaN</td>\n",
       "    </tr>\n",
       "    <tr>\n",
       "      <th>1</th>\n",
       "      <td>000058159cdbf11415ffad8001c192f6</td>\n",
       "      <td>3.0</td>\n",
       "      <td>NaN</td>\n",
       "      <td>NaN</td>\n",
       "      <td>Roll and Go AG</td>\n",
       "      <td>NaN</td>\n",
       "      <td>NaN</td>\n",
       "      <td>NaN</td>\n",
       "      <td>NaN</td>\n",
       "      <td>NaN</td>\n",
       "      <td>NaN</td>\n",
       "      <td>NaN</td>\n",
       "      <td>NaN</td>\n",
       "    </tr>\n",
       "    <tr>\n",
       "      <th>2</th>\n",
       "      <td>00005a7b722c0d70af7c0f6706cdc067</td>\n",
       "      <td>2.0</td>\n",
       "      <td>NaN</td>\n",
       "      <td>NaN</td>\n",
       "      <td>PERSCITUS INNOVATIONS LLC</td>\n",
       "      <td>NaN</td>\n",
       "      <td>NaN</td>\n",
       "      <td>NaN</td>\n",
       "      <td>NaN</td>\n",
       "      <td>NaN</td>\n",
       "      <td>NaN</td>\n",
       "      <td>NaN</td>\n",
       "      <td>NaN</td>\n",
       "    </tr>\n",
       "    <tr>\n",
       "      <th>3</th>\n",
       "      <td>00007b72e8f46f63797266c63ad3a34f</td>\n",
       "      <td>2.0</td>\n",
       "      <td>NaN</td>\n",
       "      <td>NaN</td>\n",
       "      <td>Fleetwood Aluminum Products, Inc.</td>\n",
       "      <td>NaN</td>\n",
       "      <td>NaN</td>\n",
       "      <td>NaN</td>\n",
       "      <td>NaN</td>\n",
       "      <td>NaN</td>\n",
       "      <td>NaN</td>\n",
       "      <td>NaN</td>\n",
       "      <td>NaN</td>\n",
       "    </tr>\n",
       "    <tr>\n",
       "      <th>4</th>\n",
       "      <td>000099cec50350524fc0704f0cdd8db6</td>\n",
       "      <td>3.0</td>\n",
       "      <td>NaN</td>\n",
       "      <td>NaN</td>\n",
       "      <td>B.V. Nederlandse Industrie Van Eiprodukten</td>\n",
       "      <td>NaN</td>\n",
       "      <td>NaN</td>\n",
       "      <td>NaN</td>\n",
       "      <td>NaN</td>\n",
       "      <td>NaN</td>\n",
       "      <td>NaN</td>\n",
       "      <td>NaN</td>\n",
       "      <td>NaN</td>\n",
       "    </tr>\n",
       "  </tbody>\n",
       "</table>\n",
       "</div>"
      ],
      "text/plain": [
       "                                 id  type name_first name_last  \\\n",
       "0  00003f5c5d92354570b9bae01b3e7272   2.0        NaN       NaN   \n",
       "1  000058159cdbf11415ffad8001c192f6   3.0        NaN       NaN   \n",
       "2  00005a7b722c0d70af7c0f6706cdc067   2.0        NaN       NaN   \n",
       "3  00007b72e8f46f63797266c63ad3a34f   2.0        NaN       NaN   \n",
       "4  000099cec50350524fc0704f0cdd8db6   3.0        NaN       NaN   \n",
       "\n",
       "                                 organization city state country  latitude  \\\n",
       "0             E-Z Anchor Bolt Template, Inc.   NaN   NaN     NaN       NaN   \n",
       "1                              Roll and Go AG  NaN   NaN     NaN       NaN   \n",
       "2                   PERSCITUS INNOVATIONS LLC  NaN   NaN     NaN       NaN   \n",
       "3           Fleetwood Aluminum Products, Inc.  NaN   NaN     NaN       NaN   \n",
       "4  B.V. Nederlandse Industrie Van Eiprodukten  NaN   NaN     NaN       NaN   \n",
       "\n",
       "   longitude county  state_fips  county_fips  \n",
       "0        NaN    NaN         NaN          NaN  \n",
       "1        NaN    NaN         NaN          NaN  \n",
       "2        NaN    NaN         NaN          NaN  \n",
       "3        NaN    NaN         NaN          NaN  \n",
       "4        NaN    NaN         NaN          NaN  "
      ]
     },
     "execution_count": 33,
     "metadata": {},
     "output_type": "execute_result"
    }
   ],
   "source": [
    "merge_df.head()"
   ]
  },
  {
   "cell_type": "markdown",
   "metadata": {},
   "source": [
    "## Question 5"
   ]
  },
  {
   "cell_type": "code",
   "execution_count": 34,
   "metadata": {},
   "outputs": [],
   "source": [
    "df_assignee=(merge_df[['organization', 'id', 'type', 'city', 'state', 'country', 'latitude', 'longitude', 'county', 'state_fips', 'county_fips']])"
   ]
  },
  {
   "cell_type": "code",
   "execution_count": 35,
   "metadata": {},
   "outputs": [
    {
     "data": {
      "text/html": [
       "<div>\n",
       "<table border=\"1\" class=\"dataframe\">\n",
       "  <thead>\n",
       "    <tr style=\"text-align: right;\">\n",
       "      <th></th>\n",
       "      <th>organization</th>\n",
       "      <th>id</th>\n",
       "      <th>type</th>\n",
       "      <th>city</th>\n",
       "      <th>state</th>\n",
       "      <th>country</th>\n",
       "      <th>latitude</th>\n",
       "      <th>longitude</th>\n",
       "      <th>county</th>\n",
       "      <th>state_fips</th>\n",
       "      <th>county_fips</th>\n",
       "    </tr>\n",
       "  </thead>\n",
       "  <tbody>\n",
       "    <tr>\n",
       "      <th>0</th>\n",
       "      <td>E-Z Anchor Bolt Template, Inc.</td>\n",
       "      <td>00003f5c5d92354570b9bae01b3e7272</td>\n",
       "      <td>2.0</td>\n",
       "      <td>NaN</td>\n",
       "      <td>NaN</td>\n",
       "      <td>NaN</td>\n",
       "      <td>NaN</td>\n",
       "      <td>NaN</td>\n",
       "      <td>NaN</td>\n",
       "      <td>NaN</td>\n",
       "      <td>NaN</td>\n",
       "    </tr>\n",
       "    <tr>\n",
       "      <th>1</th>\n",
       "      <td>Roll and Go AG</td>\n",
       "      <td>000058159cdbf11415ffad8001c192f6</td>\n",
       "      <td>3.0</td>\n",
       "      <td>NaN</td>\n",
       "      <td>NaN</td>\n",
       "      <td>NaN</td>\n",
       "      <td>NaN</td>\n",
       "      <td>NaN</td>\n",
       "      <td>NaN</td>\n",
       "      <td>NaN</td>\n",
       "      <td>NaN</td>\n",
       "    </tr>\n",
       "    <tr>\n",
       "      <th>2</th>\n",
       "      <td>PERSCITUS INNOVATIONS LLC</td>\n",
       "      <td>00005a7b722c0d70af7c0f6706cdc067</td>\n",
       "      <td>2.0</td>\n",
       "      <td>NaN</td>\n",
       "      <td>NaN</td>\n",
       "      <td>NaN</td>\n",
       "      <td>NaN</td>\n",
       "      <td>NaN</td>\n",
       "      <td>NaN</td>\n",
       "      <td>NaN</td>\n",
       "      <td>NaN</td>\n",
       "    </tr>\n",
       "    <tr>\n",
       "      <th>3</th>\n",
       "      <td>Fleetwood Aluminum Products, Inc.</td>\n",
       "      <td>00007b72e8f46f63797266c63ad3a34f</td>\n",
       "      <td>2.0</td>\n",
       "      <td>NaN</td>\n",
       "      <td>NaN</td>\n",
       "      <td>NaN</td>\n",
       "      <td>NaN</td>\n",
       "      <td>NaN</td>\n",
       "      <td>NaN</td>\n",
       "      <td>NaN</td>\n",
       "      <td>NaN</td>\n",
       "    </tr>\n",
       "    <tr>\n",
       "      <th>4</th>\n",
       "      <td>B.V. Nederlandse Industrie Van Eiprodukten</td>\n",
       "      <td>000099cec50350524fc0704f0cdd8db6</td>\n",
       "      <td>3.0</td>\n",
       "      <td>NaN</td>\n",
       "      <td>NaN</td>\n",
       "      <td>NaN</td>\n",
       "      <td>NaN</td>\n",
       "      <td>NaN</td>\n",
       "      <td>NaN</td>\n",
       "      <td>NaN</td>\n",
       "      <td>NaN</td>\n",
       "    </tr>\n",
       "  </tbody>\n",
       "</table>\n",
       "</div>"
      ],
      "text/plain": [
       "                                 organization  \\\n",
       "0             E-Z Anchor Bolt Template, Inc.    \n",
       "1                              Roll and Go AG   \n",
       "2                   PERSCITUS INNOVATIONS LLC   \n",
       "3           Fleetwood Aluminum Products, Inc.   \n",
       "4  B.V. Nederlandse Industrie Van Eiprodukten   \n",
       "\n",
       "                                 id  type city state country  latitude  \\\n",
       "0  00003f5c5d92354570b9bae01b3e7272   2.0  NaN   NaN     NaN       NaN   \n",
       "1  000058159cdbf11415ffad8001c192f6   3.0  NaN   NaN     NaN       NaN   \n",
       "2  00005a7b722c0d70af7c0f6706cdc067   2.0  NaN   NaN     NaN       NaN   \n",
       "3  00007b72e8f46f63797266c63ad3a34f   2.0  NaN   NaN     NaN       NaN   \n",
       "4  000099cec50350524fc0704f0cdd8db6   3.0  NaN   NaN     NaN       NaN   \n",
       "\n",
       "   longitude county  state_fips  county_fips  \n",
       "0        NaN    NaN         NaN          NaN  \n",
       "1        NaN    NaN         NaN          NaN  \n",
       "2        NaN    NaN         NaN          NaN  \n",
       "3        NaN    NaN         NaN          NaN  \n",
       "4        NaN    NaN         NaN          NaN  "
      ]
     },
     "execution_count": 35,
     "metadata": {},
     "output_type": "execute_result"
    }
   ],
   "source": [
    "df_assignee.head()"
   ]
  },
  {
   "cell_type": "markdown",
   "metadata": {},
   "source": [
    "## Question 6"
   ]
  },
  {
   "cell_type": "code",
   "execution_count": 36,
   "metadata": {},
   "outputs": [
    {
     "data": {
      "text/plain": [
       "u'/projects/wagner_ada_2019/shared/Data'"
      ]
     },
     "execution_count": 36,
     "metadata": {},
     "output_type": "execute_result"
    }
   ],
   "source": [
    "%pwd"
   ]
  },
  {
   "cell_type": "code",
   "execution_count": 37,
   "metadata": {},
   "outputs": [
    {
     "name": "stdout",
     "output_type": "stream",
     "text": [
      "/projects/wagner_ada_2019/user/sx368\n"
     ]
    }
   ],
   "source": [
    "%cd '~/projects/wagner_ada_2019/user/sx368'"
   ]
  },
  {
   "cell_type": "code",
   "execution_count": 38,
   "metadata": {},
   "outputs": [],
   "source": [
    "merge_df.to_csv(r\"~/df_assignee.csv\", sep='\\t',encoding='utf8')"
   ]
  },
  {
   "cell_type": "markdown",
   "metadata": {},
   "source": [
    "## Question 7"
   ]
  },
  {
   "cell_type": "code",
   "execution_count": 39,
   "metadata": {},
   "outputs": [
    {
     "name": "stdout",
     "output_type": "stream",
     "text": [
      "/projects/wagner_ada_2019/shared/Data\n"
     ]
    }
   ],
   "source": [
    "%cd '~/projects/wagner_ada_2019/shared/Data'"
   ]
  },
  {
   "cell_type": "code",
   "execution_count": 40,
   "metadata": {},
   "outputs": [],
   "source": [
    "df3 = pd.read_table('patents/inventor.tsv', delimiter = \"\\t\", encoding = \"utf8\", error_bad_lines=False) "
   ]
  },
  {
   "cell_type": "code",
   "execution_count": 41,
   "metadata": {},
   "outputs": [
    {
     "data": {
      "text/html": [
       "<div>\n",
       "<table border=\"1\" class=\"dataframe\">\n",
       "  <thead>\n",
       "    <tr style=\"text-align: right;\">\n",
       "      <th></th>\n",
       "      <th>id</th>\n",
       "      <th>name_first</th>\n",
       "      <th>name_last</th>\n",
       "    </tr>\n",
       "  </thead>\n",
       "  <tbody>\n",
       "    <tr>\n",
       "      <th>0</th>\n",
       "      <td>3930274-1</td>\n",
       "      <td>Harold A.</td>\n",
       "      <td>Syfritt</td>\n",
       "    </tr>\n",
       "    <tr>\n",
       "      <th>1</th>\n",
       "      <td>3930275-1</td>\n",
       "      <td>Richard</td>\n",
       "      <td>Bailin</td>\n",
       "    </tr>\n",
       "    <tr>\n",
       "      <th>2</th>\n",
       "      <td>3930276-1</td>\n",
       "      <td>Russel A.</td>\n",
       "      <td>Van Brakel</td>\n",
       "    </tr>\n",
       "    <tr>\n",
       "      <th>3</th>\n",
       "      <td>3930277-1</td>\n",
       "      <td>Richard F.</td>\n",
       "      <td>Wulff</td>\n",
       "    </tr>\n",
       "    <tr>\n",
       "      <th>4</th>\n",
       "      <td>3930278-1</td>\n",
       "      <td>Richard A.</td>\n",
       "      <td>Nasca</td>\n",
       "    </tr>\n",
       "  </tbody>\n",
       "</table>\n",
       "</div>"
      ],
      "text/plain": [
       "          id  name_first   name_last\n",
       "0  3930274-1   Harold A.     Syfritt\n",
       "1  3930275-1     Richard      Bailin\n",
       "2  3930276-1   Russel A.  Van Brakel\n",
       "3  3930277-1  Richard F.       Wulff\n",
       "4  3930278-1  Richard A.       Nasca"
      ]
     },
     "execution_count": 41,
     "metadata": {},
     "output_type": "execute_result"
    }
   ],
   "source": [
    "df3.head()\n",
    "#inventor"
   ]
  },
  {
   "cell_type": "code",
   "execution_count": 42,
   "metadata": {},
   "outputs": [
    {
     "data": {
      "text/html": [
       "<div>\n",
       "<table border=\"1\" class=\"dataframe\">\n",
       "  <thead>\n",
       "    <tr style=\"text-align: right;\">\n",
       "      <th></th>\n",
       "      <th>id</th>\n",
       "      <th>city</th>\n",
       "      <th>state</th>\n",
       "      <th>country</th>\n",
       "      <th>latitude</th>\n",
       "      <th>longitude</th>\n",
       "      <th>county</th>\n",
       "      <th>state_fips</th>\n",
       "      <th>county_fips</th>\n",
       "    </tr>\n",
       "  </thead>\n",
       "  <tbody>\n",
       "    <tr>\n",
       "      <th>0</th>\n",
       "      <td>0009wn7out97</td>\n",
       "      <td>Kaiserslautern</td>\n",
       "      <td>NaN</td>\n",
       "      <td>DE</td>\n",
       "      <td>49.4123</td>\n",
       "      <td>7.69879</td>\n",
       "      <td>NaN</td>\n",
       "      <td>NaN</td>\n",
       "      <td>NaN</td>\n",
       "    </tr>\n",
       "    <tr>\n",
       "      <th>1</th>\n",
       "      <td>000fg4sjgke4</td>\n",
       "      <td>Kiryat Ekron</td>\n",
       "      <td>NaN</td>\n",
       "      <td>IL</td>\n",
       "      <td>31.8575</td>\n",
       "      <td>34.82230</td>\n",
       "      <td>NaN</td>\n",
       "      <td>NaN</td>\n",
       "      <td>NaN</td>\n",
       "    </tr>\n",
       "    <tr>\n",
       "      <th>2</th>\n",
       "      <td>000zaps28vbi</td>\n",
       "      <td>Bridge City Westwego</td>\n",
       "      <td>LA</td>\n",
       "      <td>US</td>\n",
       "      <td>29.9179</td>\n",
       "      <td>-90.16630</td>\n",
       "      <td>Jefferson Parish</td>\n",
       "      <td>22.0</td>\n",
       "      <td>51.0</td>\n",
       "    </tr>\n",
       "    <tr>\n",
       "      <th>3</th>\n",
       "      <td>00103bqdnpjb</td>\n",
       "      <td>Emelgem</td>\n",
       "      <td>West-Vlaanderen</td>\n",
       "      <td>BE</td>\n",
       "      <td>50.9333</td>\n",
       "      <td>3.21667</td>\n",
       "      <td>NaN</td>\n",
       "      <td>NaN</td>\n",
       "      <td>NaN</td>\n",
       "    </tr>\n",
       "    <tr>\n",
       "      <th>4</th>\n",
       "      <td>002boplmzbw6</td>\n",
       "      <td>12:00 AM</td>\n",
       "      <td>NRW</td>\n",
       "      <td>DE</td>\n",
       "      <td>51.4580</td>\n",
       "      <td>6.61411</td>\n",
       "      <td>NaN</td>\n",
       "      <td>NaN</td>\n",
       "      <td>NaN</td>\n",
       "    </tr>\n",
       "  </tbody>\n",
       "</table>\n",
       "</div>"
      ],
      "text/plain": [
       "             id                  city            state country  latitude  \\\n",
       "0  0009wn7out97        Kaiserslautern              NaN      DE   49.4123   \n",
       "1  000fg4sjgke4          Kiryat Ekron              NaN      IL   31.8575   \n",
       "2  000zaps28vbi  Bridge City Westwego               LA      US   29.9179   \n",
       "3  00103bqdnpjb               Emelgem  West-Vlaanderen      BE   50.9333   \n",
       "4  002boplmzbw6              12:00 AM              NRW      DE   51.4580   \n",
       "\n",
       "   longitude            county  state_fips  county_fips  \n",
       "0    7.69879               NaN         NaN          NaN  \n",
       "1   34.82230               NaN         NaN          NaN  \n",
       "2  -90.16630  Jefferson Parish        22.0         51.0  \n",
       "3    3.21667               NaN         NaN          NaN  \n",
       "4    6.61411               NaN         NaN          NaN  "
      ]
     },
     "execution_count": 42,
     "metadata": {},
     "output_type": "execute_result"
    }
   ],
   "source": [
    "df2.head()\n",
    "#location file"
   ]
  },
  {
   "cell_type": "code",
   "execution_count": 43,
   "metadata": {},
   "outputs": [],
   "source": [
    "df4=pd.read_table('patents/location_inventor.tsv', delimiter = \"\\t\", encoding = \"utf8\", error_bad_lines=False) "
   ]
  },
  {
   "cell_type": "code",
   "execution_count": 44,
   "metadata": {},
   "outputs": [
    {
     "data": {
      "text/html": [
       "<div>\n",
       "<table border=\"1\" class=\"dataframe\">\n",
       "  <thead>\n",
       "    <tr style=\"text-align: right;\">\n",
       "      <th></th>\n",
       "      <th>location_id</th>\n",
       "      <th>inventor_id</th>\n",
       "    </tr>\n",
       "  </thead>\n",
       "  <tbody>\n",
       "    <tr>\n",
       "      <th>0</th>\n",
       "      <td>1lsd4phk95cz</td>\n",
       "      <td>4789863-1</td>\n",
       "    </tr>\n",
       "    <tr>\n",
       "      <th>1</th>\n",
       "      <td>biq6nmd69tyv</td>\n",
       "      <td>6795487-2</td>\n",
       "    </tr>\n",
       "    <tr>\n",
       "      <th>2</th>\n",
       "      <td>x54og9phjnpf</td>\n",
       "      <td>4856493-1</td>\n",
       "    </tr>\n",
       "    <tr>\n",
       "      <th>3</th>\n",
       "      <td>08gq1corg1ae</td>\n",
       "      <td>8204697-1</td>\n",
       "    </tr>\n",
       "    <tr>\n",
       "      <th>4</th>\n",
       "      <td>e3ouollnf0yk</td>\n",
       "      <td>3955100-1</td>\n",
       "    </tr>\n",
       "  </tbody>\n",
       "</table>\n",
       "</div>"
      ],
      "text/plain": [
       "    location_id inventor_id\n",
       "0  1lsd4phk95cz   4789863-1\n",
       "1  biq6nmd69tyv   6795487-2\n",
       "2  x54og9phjnpf   4856493-1\n",
       "3  08gq1corg1ae   8204697-1\n",
       "4  e3ouollnf0yk   3955100-1"
      ]
     },
     "execution_count": 44,
     "metadata": {},
     "output_type": "execute_result"
    }
   ],
   "source": [
    "df4.head()\n",
    "#location inventor"
   ]
  },
  {
   "cell_type": "code",
   "execution_count": 45,
   "metadata": {},
   "outputs": [],
   "source": [
    "merge_df2=pd.merge(df3, df4, left_on = 'id', right_on ='inventor_id')"
   ]
  },
  {
   "cell_type": "code",
   "execution_count": 46,
   "metadata": {},
   "outputs": [
    {
     "data": {
      "text/html": [
       "<div>\n",
       "<table border=\"1\" class=\"dataframe\">\n",
       "  <thead>\n",
       "    <tr style=\"text-align: right;\">\n",
       "      <th></th>\n",
       "      <th>id</th>\n",
       "      <th>name_first</th>\n",
       "      <th>name_last</th>\n",
       "      <th>location_id</th>\n",
       "      <th>inventor_id</th>\n",
       "    </tr>\n",
       "  </thead>\n",
       "  <tbody>\n",
       "    <tr>\n",
       "      <th>0</th>\n",
       "      <td>3930274-1</td>\n",
       "      <td>Harold A.</td>\n",
       "      <td>Syfritt</td>\n",
       "      <td>0v996oszcgwn</td>\n",
       "      <td>3930274-1</td>\n",
       "    </tr>\n",
       "    <tr>\n",
       "      <th>1</th>\n",
       "      <td>3930274-1</td>\n",
       "      <td>Harold A.</td>\n",
       "      <td>Syfritt</td>\n",
       "      <td>rt8b3vclgmdx</td>\n",
       "      <td>3930274-1</td>\n",
       "    </tr>\n",
       "    <tr>\n",
       "      <th>2</th>\n",
       "      <td>3930275-1</td>\n",
       "      <td>Richard</td>\n",
       "      <td>Bailin</td>\n",
       "      <td>bb0ha4nfi6m5</td>\n",
       "      <td>3930275-1</td>\n",
       "    </tr>\n",
       "    <tr>\n",
       "      <th>3</th>\n",
       "      <td>3930276-1</td>\n",
       "      <td>Russel A.</td>\n",
       "      <td>Van Brakel</td>\n",
       "      <td>glbd6s8gbjzi</td>\n",
       "      <td>3930276-1</td>\n",
       "    </tr>\n",
       "    <tr>\n",
       "      <th>4</th>\n",
       "      <td>3930276-1</td>\n",
       "      <td>Russel A.</td>\n",
       "      <td>Van Brakel</td>\n",
       "      <td>glbd6s8gbjzi</td>\n",
       "      <td>3930276-1</td>\n",
       "    </tr>\n",
       "  </tbody>\n",
       "</table>\n",
       "</div>"
      ],
      "text/plain": [
       "          id name_first   name_last   location_id inventor_id\n",
       "0  3930274-1  Harold A.     Syfritt  0v996oszcgwn   3930274-1\n",
       "1  3930274-1  Harold A.     Syfritt  rt8b3vclgmdx   3930274-1\n",
       "2  3930275-1    Richard      Bailin  bb0ha4nfi6m5   3930275-1\n",
       "3  3930276-1  Russel A.  Van Brakel  glbd6s8gbjzi   3930276-1\n",
       "4  3930276-1  Russel A.  Van Brakel  glbd6s8gbjzi   3930276-1"
      ]
     },
     "execution_count": 46,
     "metadata": {},
     "output_type": "execute_result"
    }
   ],
   "source": [
    "merge_df2.head()"
   ]
  },
  {
   "cell_type": "code",
   "execution_count": 47,
   "metadata": {},
   "outputs": [],
   "source": [
    "merge_df3=pd.merge(df2,merge_df2, left_on = 'id', right_on ='location_id')"
   ]
  },
  {
   "cell_type": "code",
   "execution_count": 48,
   "metadata": {},
   "outputs": [
    {
     "data": {
      "text/html": [
       "<div>\n",
       "<table border=\"1\" class=\"dataframe\">\n",
       "  <thead>\n",
       "    <tr style=\"text-align: right;\">\n",
       "      <th></th>\n",
       "      <th>id_x</th>\n",
       "      <th>city</th>\n",
       "      <th>state</th>\n",
       "      <th>country</th>\n",
       "      <th>latitude</th>\n",
       "      <th>longitude</th>\n",
       "      <th>county</th>\n",
       "      <th>state_fips</th>\n",
       "      <th>county_fips</th>\n",
       "      <th>id_y</th>\n",
       "      <th>name_first</th>\n",
       "      <th>name_last</th>\n",
       "      <th>location_id</th>\n",
       "      <th>inventor_id</th>\n",
       "    </tr>\n",
       "  </thead>\n",
       "  <tbody>\n",
       "    <tr>\n",
       "      <th>0</th>\n",
       "      <td>0009wn7out97</td>\n",
       "      <td>Kaiserslautern</td>\n",
       "      <td>NaN</td>\n",
       "      <td>DE</td>\n",
       "      <td>49.4123</td>\n",
       "      <td>7.69879</td>\n",
       "      <td>NaN</td>\n",
       "      <td>NaN</td>\n",
       "      <td>NaN</td>\n",
       "      <td>3930453-2</td>\n",
       "      <td>Erich</td>\n",
       "      <td>Willenbacher</td>\n",
       "      <td>0009wn7out97</td>\n",
       "      <td>3930453-2</td>\n",
       "    </tr>\n",
       "    <tr>\n",
       "      <th>1</th>\n",
       "      <td>0009wn7out97</td>\n",
       "      <td>Kaiserslautern</td>\n",
       "      <td>NaN</td>\n",
       "      <td>DE</td>\n",
       "      <td>49.4123</td>\n",
       "      <td>7.69879</td>\n",
       "      <td>NaN</td>\n",
       "      <td>NaN</td>\n",
       "      <td>NaN</td>\n",
       "      <td>3930453-2</td>\n",
       "      <td>Erich</td>\n",
       "      <td>Willenbacher</td>\n",
       "      <td>0009wn7out97</td>\n",
       "      <td>3930453-2</td>\n",
       "    </tr>\n",
       "    <tr>\n",
       "      <th>2</th>\n",
       "      <td>0009wn7out97</td>\n",
       "      <td>Kaiserslautern</td>\n",
       "      <td>NaN</td>\n",
       "      <td>DE</td>\n",
       "      <td>49.4123</td>\n",
       "      <td>7.69879</td>\n",
       "      <td>NaN</td>\n",
       "      <td>NaN</td>\n",
       "      <td>NaN</td>\n",
       "      <td>3930453-2</td>\n",
       "      <td>Erich</td>\n",
       "      <td>Willenbacher</td>\n",
       "      <td>0009wn7out97</td>\n",
       "      <td>3930453-2</td>\n",
       "    </tr>\n",
       "    <tr>\n",
       "      <th>3</th>\n",
       "      <td>0009wn7out97</td>\n",
       "      <td>Kaiserslautern</td>\n",
       "      <td>NaN</td>\n",
       "      <td>DE</td>\n",
       "      <td>49.4123</td>\n",
       "      <td>7.69879</td>\n",
       "      <td>NaN</td>\n",
       "      <td>NaN</td>\n",
       "      <td>NaN</td>\n",
       "      <td>3930453-2</td>\n",
       "      <td>Erich</td>\n",
       "      <td>Willenbacher</td>\n",
       "      <td>0009wn7out97</td>\n",
       "      <td>3930453-2</td>\n",
       "    </tr>\n",
       "    <tr>\n",
       "      <th>4</th>\n",
       "      <td>0009wn7out97</td>\n",
       "      <td>Kaiserslautern</td>\n",
       "      <td>NaN</td>\n",
       "      <td>DE</td>\n",
       "      <td>49.4123</td>\n",
       "      <td>7.69879</td>\n",
       "      <td>NaN</td>\n",
       "      <td>NaN</td>\n",
       "      <td>NaN</td>\n",
       "      <td>3930453-2</td>\n",
       "      <td>Erich</td>\n",
       "      <td>Willenbacher</td>\n",
       "      <td>0009wn7out97</td>\n",
       "      <td>3930453-2</td>\n",
       "    </tr>\n",
       "  </tbody>\n",
       "</table>\n",
       "</div>"
      ],
      "text/plain": [
       "           id_x            city state country  latitude  longitude county  \\\n",
       "0  0009wn7out97  Kaiserslautern   NaN      DE   49.4123    7.69879    NaN   \n",
       "1  0009wn7out97  Kaiserslautern   NaN      DE   49.4123    7.69879    NaN   \n",
       "2  0009wn7out97  Kaiserslautern   NaN      DE   49.4123    7.69879    NaN   \n",
       "3  0009wn7out97  Kaiserslautern   NaN      DE   49.4123    7.69879    NaN   \n",
       "4  0009wn7out97  Kaiserslautern   NaN      DE   49.4123    7.69879    NaN   \n",
       "\n",
       "   state_fips  county_fips       id_y name_first     name_last   location_id  \\\n",
       "0         NaN          NaN  3930453-2      Erich  Willenbacher  0009wn7out97   \n",
       "1         NaN          NaN  3930453-2      Erich  Willenbacher  0009wn7out97   \n",
       "2         NaN          NaN  3930453-2      Erich  Willenbacher  0009wn7out97   \n",
       "3         NaN          NaN  3930453-2      Erich  Willenbacher  0009wn7out97   \n",
       "4         NaN          NaN  3930453-2      Erich  Willenbacher  0009wn7out97   \n",
       "\n",
       "  inventor_id  \n",
       "0   3930453-2  \n",
       "1   3930453-2  \n",
       "2   3930453-2  \n",
       "3   3930453-2  \n",
       "4   3930453-2  "
      ]
     },
     "execution_count": 48,
     "metadata": {},
     "output_type": "execute_result"
    }
   ],
   "source": [
    "merge_df3.head()\n",
    "#location and inventor"
   ]
  },
  {
   "cell_type": "markdown",
   "metadata": {},
   "source": [
    "## Question 8"
   ]
  },
  {
   "cell_type": "code",
   "execution_count": 49,
   "metadata": {},
   "outputs": [],
   "source": [
    "df_inventor=(merge_df3[['name_first', 'name_last', 'inventor_id', 'city', 'state', 'country', 'latitude', 'longitude', 'county', 'state_fips', 'county_fips']])"
   ]
  },
  {
   "cell_type": "code",
   "execution_count": 50,
   "metadata": {},
   "outputs": [
    {
     "data": {
      "text/html": [
       "<div>\n",
       "<table border=\"1\" class=\"dataframe\">\n",
       "  <thead>\n",
       "    <tr style=\"text-align: right;\">\n",
       "      <th></th>\n",
       "      <th>name_first</th>\n",
       "      <th>name_last</th>\n",
       "      <th>inventor_id</th>\n",
       "      <th>city</th>\n",
       "      <th>state</th>\n",
       "      <th>country</th>\n",
       "      <th>latitude</th>\n",
       "      <th>longitude</th>\n",
       "      <th>county</th>\n",
       "      <th>state_fips</th>\n",
       "      <th>county_fips</th>\n",
       "    </tr>\n",
       "  </thead>\n",
       "  <tbody>\n",
       "    <tr>\n",
       "      <th>0</th>\n",
       "      <td>Erich</td>\n",
       "      <td>Willenbacher</td>\n",
       "      <td>3930453-2</td>\n",
       "      <td>Kaiserslautern</td>\n",
       "      <td>NaN</td>\n",
       "      <td>DE</td>\n",
       "      <td>49.4123</td>\n",
       "      <td>7.69879</td>\n",
       "      <td>NaN</td>\n",
       "      <td>NaN</td>\n",
       "      <td>NaN</td>\n",
       "    </tr>\n",
       "    <tr>\n",
       "      <th>1</th>\n",
       "      <td>Erich</td>\n",
       "      <td>Willenbacher</td>\n",
       "      <td>3930453-2</td>\n",
       "      <td>Kaiserslautern</td>\n",
       "      <td>NaN</td>\n",
       "      <td>DE</td>\n",
       "      <td>49.4123</td>\n",
       "      <td>7.69879</td>\n",
       "      <td>NaN</td>\n",
       "      <td>NaN</td>\n",
       "      <td>NaN</td>\n",
       "    </tr>\n",
       "    <tr>\n",
       "      <th>2</th>\n",
       "      <td>Erich</td>\n",
       "      <td>Willenbacher</td>\n",
       "      <td>3930453-2</td>\n",
       "      <td>Kaiserslautern</td>\n",
       "      <td>NaN</td>\n",
       "      <td>DE</td>\n",
       "      <td>49.4123</td>\n",
       "      <td>7.69879</td>\n",
       "      <td>NaN</td>\n",
       "      <td>NaN</td>\n",
       "      <td>NaN</td>\n",
       "    </tr>\n",
       "    <tr>\n",
       "      <th>3</th>\n",
       "      <td>Erich</td>\n",
       "      <td>Willenbacher</td>\n",
       "      <td>3930453-2</td>\n",
       "      <td>Kaiserslautern</td>\n",
       "      <td>NaN</td>\n",
       "      <td>DE</td>\n",
       "      <td>49.4123</td>\n",
       "      <td>7.69879</td>\n",
       "      <td>NaN</td>\n",
       "      <td>NaN</td>\n",
       "      <td>NaN</td>\n",
       "    </tr>\n",
       "    <tr>\n",
       "      <th>4</th>\n",
       "      <td>Erich</td>\n",
       "      <td>Willenbacher</td>\n",
       "      <td>3930453-2</td>\n",
       "      <td>Kaiserslautern</td>\n",
       "      <td>NaN</td>\n",
       "      <td>DE</td>\n",
       "      <td>49.4123</td>\n",
       "      <td>7.69879</td>\n",
       "      <td>NaN</td>\n",
       "      <td>NaN</td>\n",
       "      <td>NaN</td>\n",
       "    </tr>\n",
       "  </tbody>\n",
       "</table>\n",
       "</div>"
      ],
      "text/plain": [
       "  name_first     name_last inventor_id            city state country  \\\n",
       "0      Erich  Willenbacher   3930453-2  Kaiserslautern   NaN      DE   \n",
       "1      Erich  Willenbacher   3930453-2  Kaiserslautern   NaN      DE   \n",
       "2      Erich  Willenbacher   3930453-2  Kaiserslautern   NaN      DE   \n",
       "3      Erich  Willenbacher   3930453-2  Kaiserslautern   NaN      DE   \n",
       "4      Erich  Willenbacher   3930453-2  Kaiserslautern   NaN      DE   \n",
       "\n",
       "   latitude  longitude county  state_fips  county_fips  \n",
       "0   49.4123    7.69879    NaN         NaN          NaN  \n",
       "1   49.4123    7.69879    NaN         NaN          NaN  \n",
       "2   49.4123    7.69879    NaN         NaN          NaN  \n",
       "3   49.4123    7.69879    NaN         NaN          NaN  \n",
       "4   49.4123    7.69879    NaN         NaN          NaN  "
      ]
     },
     "execution_count": 50,
     "metadata": {},
     "output_type": "execute_result"
    }
   ],
   "source": [
    "df_inventor.head()"
   ]
  },
  {
   "cell_type": "markdown",
   "metadata": {},
   "source": [
    "## Question 9"
   ]
  },
  {
   "cell_type": "code",
   "execution_count": 57,
   "metadata": {},
   "outputs": [
    {
     "name": "stdout",
     "output_type": "stream",
     "text": [
      "/projects/wagner_ada_2019/user/sx368\n"
     ]
    }
   ],
   "source": [
    "%cd '~/projects/wagner_ada_2019/user/sx368'"
   ]
  },
  {
   "cell_type": "code",
   "execution_count": 59,
   "metadata": {},
   "outputs": [],
   "source": [
    "df_inventor.to_csv(r\"~/df_inventor_location.csv\", sep='\\t',encoding='utf8')"
   ]
  },
  {
   "cell_type": "markdown",
   "metadata": {},
   "source": [
    "## Question 10"
   ]
  },
  {
   "cell_type": "code",
   "execution_count": 60,
   "metadata": {},
   "outputs": [
    {
     "data": {
      "text/plain": [
       "England                 3583\n",
       "CA                      2707\n",
       "PA                      2446\n",
       "NY                      2353\n",
       "Bayern                  1694\n",
       "TX                      1686\n",
       "IL                      1650\n",
       "OH                      1477\n",
       "MI                      1354\n",
       "Baden-Wurttemberg       1265\n",
       "NJ                      1231\n",
       "FL                      1136\n",
       "BY                      1125\n",
       "MN                      1056\n",
       "Lombardia               1006\n",
       "BW                       990\n",
       "New South Wales          975\n",
       "NC                       975\n",
       "MO                       960\n",
       "VA                       942\n",
       "WI                       915\n",
       "IN                       852\n",
       "MA                       847\n",
       "Rhone-Alpes              835\n",
       "IA                       822\n",
       "GA                       815\n",
       "Rheinland-Pfalz          791\n",
       "WA                       777\n",
       "NRW                      761\n",
       "MD                       734\n",
       "                        ... \n",
       "Kaarina                    1\n",
       "Omagh                      1\n",
       "Marrakesh-Tensift-El       1\n",
       "Ipiros Ditiki Makedo       1\n",
       "Comunitat Valenciana       1\n",
       "Provincia de San Jos       1\n",
       "Taiwan Province            1\n",
       "Borjomis Raioni            1\n",
       "Guam                       1\n",
       "Mayo-Kebbi Est             1\n",
       "Hajjah                     1\n",
       "West Pomeranian Voiv       1\n",
       "Ulsan-gwangyoksi           1\n",
       "Ajdovscina                 1\n",
       "Stuttgart                  1\n",
       "Alvkarleby                 1\n",
       "Orebro                     1\n",
       "Manipoer                   1\n",
       "Samkir                     1\n",
       "Messina                    1\n",
       "Pingtung County            1\n",
       "Lund                       1\n",
       "Green Turtle Cay           1\n",
       "Phangnga                   1\n",
       "Streymoy                   1\n",
       "Jizan                      1\n",
       "Ogun State                 1\n",
       "Chuvashia Republic         1\n",
       "Biltine                    1\n",
       "Morovis                    1\n",
       "Name: state, dtype: int64"
      ]
     },
     "execution_count": 60,
     "metadata": {},
     "output_type": "execute_result"
    }
   ],
   "source": [
    "merge_df.state.value_counts()"
   ]
  },
  {
   "cell_type": "code",
   "execution_count": 73,
   "metadata": {},
   "outputs": [
    {
     "name": "stdout",
     "output_type": "stream",
     "text": [
      "California with 2707 asignees is the state with the highest assignee number.\n"
     ]
    }
   ],
   "source": [
    "print('California with 2707 asignees is the state with the highest assignee number.')"
   ]
  }
 ],
 "metadata": {
  "kernelspec": {
   "display_name": "Wagner",
   "language": "python",
   "name": "wagner"
  },
  "language_info": {
   "codemirror_mode": {
    "name": "ipython",
    "version": 2
   },
   "file_extension": ".py",
   "mimetype": "text/x-python",
   "name": "python",
   "nbconvert_exporter": "python",
   "pygments_lexer": "ipython2",
   "version": "2.7.12"
  }
 },
 "nbformat": 4,
 "nbformat_minor": 2
}
