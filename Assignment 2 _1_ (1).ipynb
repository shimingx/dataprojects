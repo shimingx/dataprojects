{
 "cells": [
  {
   "cell_type": "markdown",
   "metadata": {},
   "source": [
    "# Assignment Number 2: API Calls"
   ]
  },
  {
   "cell_type": "markdown",
   "metadata": {},
   "source": [
    "-----\n",
    "\n",
    "Name:\n",
    "\n",
    "-----"
   ]
  },
  {
   "cell_type": "markdown",
   "metadata": {},
   "source": [
    "---\n",
    "\n",
    "Net id:\n",
    "\n",
    "---"
   ]
  },
  {
   "cell_type": "markdown",
   "metadata": {},
   "source": [
    "The goal of the assignment is to test your knowledge on basic API calls. You will work on this excerise using the patent data API found on following website: http://www.patentsview.org/api/doc.html. In addition, you will find an API on the internet for yourself and pull data in. \n",
    "You will receive 2 points for comnpleting each item in the list below. A correct answer consists of the code that generates the answer followed by a text cell that answer the question in a sentence. Please keep in mind that the notebook you submit has to be executable, this means, has to run entirely without producing errors. \n",
    "\n",
    "1. What are the advantages using in API when accessing data. Name at least 2 points\n",
    "2. Build a dataset by querying the patentsview API that contains all approved patents for the year 2010, including following information: Application date, assignee first and last name, assignee state, assignee organization, assignee type, inventor first and last name, inventor state, patent date, patent type, patent title and processing time\n",
    "3. Find an open API on the internet. The easiest is to find one without key, such as a weather API for example. If you search on google for APIs without authentication it will direct you to some resources. If you want to try an API call with key authentication you might want to look into Census APIs: https://www.census.gov/data/developers/data-sets.html\n",
    "4. Provide a summary about the API\n",
    "5. Access the API you found and pull data in"
   ]
  },
  {
   "cell_type": "markdown",
   "metadata": {},
   "source": [
    "---\n",
    "\n",
    "If you want you can give us an update on your class research project here. You don't have to. If you do though we will provide you with some feedback. You don't get any points for this. \n",
    "\n",
    "---"
   ]
  },
  {
   "cell_type": "code",
   "execution_count": null,
   "metadata": {},
   "outputs": [],
   "source": []
  }
 ],
 "metadata": {
  "kernelspec": {
   "display_name": "Wagner",
   "language": "python",
   "name": "wagner"
  },
  "language_info": {
   "codemirror_mode": {
    "name": "ipython",
    "version": 2
   },
   "file_extension": ".py",
   "mimetype": "text/x-python",
   "name": "python",
   "nbconvert_exporter": "python",
   "pygments_lexer": "ipython2",
   "version": "2.7.12"
  }
 },
 "nbformat": 4,
 "nbformat_minor": 2
}
